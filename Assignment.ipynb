{
 "cells": [
  {
   "cell_type": "code",
   "execution_count": 1,
   "id": "ffd7f567",
   "metadata": {},
   "outputs": [
    {
     "name": "stdout",
     "output_type": "stream",
     "text": [
      "Hello! I'm Aisha.\n"
     ]
    }
   ],
   "source": [
    "Message=(\"Hello! I'm Aisha.\")\n",
    "print (Message)"
   ]
  },
  {
   "cell_type": "code",
   "execution_count": 2,
   "id": "77b3c067",
   "metadata": {},
   "outputs": [
    {
     "name": "stdout",
     "output_type": "stream",
     "text": [
      " \"With faith, Discipline and selfless devotion to duty, there is nothing worthwhile that you cannot Achieve. Muhammad Ali Jinnah\" \n"
     ]
    }
   ],
   "source": [
    "Quote=(' \"With faith, Discipline and selfless devotion to duty, there is nothing worthwhile that you cannot Achieve. Muhammad Ali Jinnah\" ')\n",
    "print(Quote)"
   ]
  },
  {
   "cell_type": "code",
   "execution_count": 6,
   "id": "84878756",
   "metadata": {
    "scrolled": true
   },
   "outputs": [
    {
     "name": "stdout",
     "output_type": "stream",
     "text": [
      "Enter the Radius of the circle0.5\n",
      "Area of circle is : 0.785  with radius 0.5\n"
     ]
    }
   ],
   "source": [
    "r=float(input(\"Enter the Radius of the circle\"))\n",
    "Area_Of_circle=str(3.14*(r**2))\n",
    "print(\"Area of circle is : \" +  Area_Of_circle  + \"  with radius 0.5\")"
   ]
  },
  {
   "cell_type": "code",
   "execution_count": 7,
   "id": "e905f771",
   "metadata": {},
   "outputs": [
    {
     "name": "stdout",
     "output_type": "stream",
     "text": [
      "Enter a number: 2\n",
      "Entered number is positive\n"
     ]
    }
   ],
   "source": [
    "num=float(input(\"Enter a number: \"))\n",
    "if num > 0:\n",
    "    print(\"Entered number is positive\")\n",
    "elif num == 0:\n",
    "    print(\"Zero Entered\")\n",
    "else:\n",
    "    print(\"Entered number is negative\")"
   ]
  },
  {
   "cell_type": "code",
   "execution_count": 8,
   "id": "7d52809a",
   "metadata": {},
   "outputs": [
    {
     "name": "stdout",
     "output_type": "stream",
     "text": [
      "Enter a Character :e\n",
      "Entered character is vowel.\n"
     ]
    }
   ],
   "source": [
    "#Vowel Tester\n",
    "ch=input(\"Enter a Character :\")\n",
    "if (ch=='A' or ch=='E' or ch=='I' or ch=='O' or ch=='U' or ch=='a' or ch=='e' or ch=='i' or ch=='o' or ch=='u'):\n",
    "   print(\"Entered character is vowel.\")\n",
    "else:\n",
    "   print(\"Entered character is not vowel.\")"
   ]
  },
  {
   "cell_type": "code",
   "execution_count": 9,
   "id": "d5c015c3",
   "metadata": {},
   "outputs": [
    {
     "name": "stdout",
     "output_type": "stream",
     "text": [
      "Enter your height in cm :163\n",
      "Enter your weight in kg :45\n",
      "Your BMI is :16.937031879257784\n"
     ]
    }
   ],
   "source": [
    "#BMICalculator\n",
    "height=float(input (\"Enter your height in cm :\"))\n",
    "weight=float(input (\"Enter your weight in kg :\"))\n",
    "BMI=str(weight/(height/100)**2)\n",
    "print(\"Your BMI is :\" + BMI)"
   ]
  },
  {
   "cell_type": "code",
   "execution_count": 3,
   "id": "79edafe4",
   "metadata": {},
   "outputs": [
    {
     "name": "stdout",
     "output_type": "stream",
     "text": [
      "Aina\n",
      "Aisha\n",
      "Aiman\n",
      "Arfa\n",
      "Ghosia\n"
     ]
    }
   ],
   "source": [
    "## list\n",
    "names=['Aina','Aisha','Aiman','Arfa','Ghosia']\n",
    "print(names[0])\n",
    "print(names[1])\n",
    "print(names[2])\n",
    "print(names[3])\n",
    "print(names[4])\n",
    "\n"
   ]
  },
  {
   "cell_type": "code",
   "execution_count": 4,
   "id": "5433df67",
   "metadata": {},
   "outputs": [
    {
     "name": "stdout",
     "output_type": "stream",
     "text": [
      "Aina: You're my bestfriend\n",
      "Aisha: You're my bestfriend\n",
      "Aiman: You're my bestfriend\n",
      "Arfa: You're my bestfriend\n",
      "Ghosia: You're my bestfriend\n"
     ]
    }
   ],
   "source": [
    "names=['Aina','Aisha','Aiman','Arfa','Ghosia']\n",
    "print(names[0]  + \": You're my bestfriend\")\n",
    "print(names[1]  + \": You're my bestfriend\")\n",
    "print(names[2]  + \": You're my bestfriend\")\n",
    "print(names[3]  + \": You're my bestfriend\")\n",
    "print(names[4]  + \": You're my bestfriend\")"
   ]
  },
  {
   "cell_type": "code",
   "execution_count": 5,
   "id": "22589971",
   "metadata": {},
   "outputs": [
    {
     "name": "stdout",
     "output_type": "stream",
     "text": [
      "Aina is very nice person\n",
      "Aisha is very nice person\n",
      "Aiman is very nice person\n",
      "Arfa is very nice person\n",
      "Ghosia is very nice person\n"
     ]
    }
   ],
   "source": [
    "for i in names:\n",
    "    print(i , \"is very nice person\")"
   ]
  },
  {
   "cell_type": "code",
   "execution_count": 6,
   "id": "7f23af33",
   "metadata": {},
   "outputs": [
    {
     "name": "stdout",
     "output_type": "stream",
     "text": [
      "The first three items are :  ['Biryani', 'Pizza', 'Kabab']\n",
      "The middle three items are :  ['Roll', 'Pulao', 'Nihari']\n",
      "The last three items are :  ['Karahi', 'Zinger', 'Broast']\n"
     ]
    }
   ],
   "source": [
    "fvrt_food = ['Biryani' , 'Pizza' , 'Kabab' , 'Roll' , 'Pulao' , 'Nihari' , 'Karahi' , 'Zinger' , 'Broast']\n",
    "print(\"The first three items are : \" , fvrt_food[0:3])\n",
    "print(\"The middle three items are : \" , fvrt_food[3:6])\n",
    "print(\"The last three items are : \" , fvrt_food[6:9])"
   ]
  },
  {
   "cell_type": "code",
   "execution_count": 7,
   "id": "f868be72",
   "metadata": {},
   "outputs": [
    {
     "name": "stdout",
     "output_type": "stream",
     "text": [
      "FIRST LIST\n",
      "My Favorite foods are : Biryani\n",
      "My Favorite foods are : Pizza\n",
      "My Favorite foods are : Kabab\n",
      "My Favorite foods are : Roll\n",
      "My Favorite foods are : Pulao\n",
      "My Favorite foods are : Nihari\n",
      "My Favorite foods are : Karahi\n",
      "My Favorite foods are : Zinger\n",
      "My Favorite foods are : Broast\n",
      "My Favorite foods are : Cninese pulao\n",
      "SECOND LIST\n",
      "My friend's favorite foods are :  Biryani\n",
      "My friend's favorite foods are :  Pulao\n",
      "My friend's favorite foods are :  Tikka\n",
      "My friend's favorite foods are :  Shwarma\n",
      "My friend's favorite foods are :  Sushi\n",
      "My friend's favorite foods are :  Fries\n",
      "My friend's favorite foods are :  Qorma\n",
      "My friend's favorite foods are :  Nihari\n",
      "My friend's favorite foods are :  Zinger\n",
      "My friend's favorite foods are :  Daleem\n"
     ]
    }
   ],
   "source": [
    "fvrt_foods = ['Biryani' , 'Pizza' , 'Kabab' , 'Roll' , 'Pulao' , 'Nihari' , 'Karahi' , 'Zinger' , 'Broast']\n",
    "friend_food = ['Biryani' ,'Pulao' , 'Tikka' , 'Shwarma' , 'Sushi' , 'Fries' , 'Qorma' , 'Nihari' , 'Zinger']\n",
    "fvrt_foods.append(\"Cninese pulao\")\n",
    "friend_food.append(\"Daleem\")\n",
    "print(\"FIRST LIST\")\n",
    "for fvrt_foods in fvrt_foods:\n",
    "    print(\"My Favorite foods are :\", fvrt_foods)\n",
    "    \n",
    "    \n",
    "    \n",
    "print(\"SECOND LIST\")\n",
    "for friend_food in friend_food:\n",
    "    print(\"My friend's favorite foods are : \" , friend_food)"
   ]
  },
  {
   "cell_type": "code",
   "execution_count": null,
   "id": "b81de425",
   "metadata": {},
   "outputs": [],
   "source": []
  }
 ],
 "metadata": {
  "kernelspec": {
   "display_name": "Python 3 (ipykernel)",
   "language": "python",
   "name": "python3"
  },
  "language_info": {
   "codemirror_mode": {
    "name": "ipython",
    "version": 3
   },
   "file_extension": ".py",
   "mimetype": "text/x-python",
   "name": "python",
   "nbconvert_exporter": "python",
   "pygments_lexer": "ipython3",
   "version": "3.9.12"
  }
 },
 "nbformat": 4,
 "nbformat_minor": 5
}
